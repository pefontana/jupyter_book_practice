{
 "cells": [
  {
   "cell_type": "code",
   "execution_count": 1,
   "metadata": {},
   "outputs": [
    {
     "name": "stderr",
     "output_type": "stream",
     "text": [
      "\u001b[32m\u001b[1m Activating\u001b[22m\u001b[39m environment at `~/Documents/Pedro/Tareas/Pasar a jupyter/04_naive_bayes/Project.toml`\n"
     ]
    }
   ],
   "source": [
    "]activate ."
   ]
  },
  {
   "cell_type": "code",
   "execution_count": 2,
   "metadata": {},
   "outputs": [],
   "source": [
    "]instantiate"
   ]
  },
  {
   "cell_type": "code",
   "execution_count": 3,
   "metadata": {},
   "outputs": [
    {
     "name": "stderr",
     "output_type": "stream",
     "text": [
      "┌ Info: Precompiling CSV [336ed68f-0bac-5ca0-87d4-7b16caf5d00b]\n",
      "└ @ Base loading.jl:1278\n",
      "ERROR: LoadError: UndefVarError: invrefpool not defined\n",
      "Stacktrace:\n",
      " [1] getproperty(::Module, ::Symbol) at ./Base.jl:26\n",
      " [2] top-level scope at /Users/lambda/.julia/packages/PooledArrays/4I2sD/src/PooledArrays.jl:162\n",
      " [3] include(::Function, ::Module, ::String) at ./Base.jl:380\n",
      " [4] include(::Module, ::String) at ./Base.jl:368\n",
      " [5] top-level scope at none:2\n",
      " [6] eval at ./boot.jl:331 [inlined]\n",
      " [7] eval(::Expr) at ./client.jl:467\n",
      " [8] top-level scope at ./none:3\n",
      "in expression starting at /Users/lambda/.julia/packages/PooledArrays/4I2sD/src/PooledArrays.jl:162\n",
      "ERROR: LoadError: Failed to precompile PooledArrays [2dfb63ee-cc39-5dd5-95bd-886bf059d720] to /Users/lambda/.julia/compiled/v1.5/PooledArrays/vi11X_pTTLi.ji.\n",
      "Stacktrace:\n",
      " [1] error(::String) at ./error.jl:33\n",
      " [2] compilecache(::Base.PkgId, ::String) at ./loading.jl:1305\n",
      " [3] _require(::Base.PkgId) at ./loading.jl:1030\n",
      " [4] require(::Base.PkgId) at ./loading.jl:928\n",
      " [5] require(::Module, ::Symbol) at ./loading.jl:923\n",
      " [6] include(::Function, ::Module, ::String) at ./Base.jl:380\n",
      " [7] include(::Module, ::String) at ./Base.jl:368\n",
      " [8] top-level scope at none:2\n",
      " [9] eval at ./boot.jl:331 [inlined]\n",
      " [10] eval(::Expr) at ./client.jl:467\n",
      " [11] top-level scope at ./none:3\n",
      "in expression starting at /Users/lambda/.julia/packages/CSV/YUbbG/src/CSV.jl:15\n"
     ]
    },
    {
     "ename": "LoadError",
     "evalue": "Failed to precompile CSV [336ed68f-0bac-5ca0-87d4-7b16caf5d00b] to /Users/lambda/.julia/compiled/v1.5/CSV/HHBkp_pTTLi.ji.",
     "output_type": "error",
     "traceback": [
      "Failed to precompile CSV [336ed68f-0bac-5ca0-87d4-7b16caf5d00b] to /Users/lambda/.julia/compiled/v1.5/CSV/HHBkp_pTTLi.ji.",
      "",
      "Stacktrace:",
      " [1] error(::String) at ./error.jl:33",
      " [2] compilecache(::Base.PkgId, ::String) at ./loading.jl:1305",
      " [3] _require(::Base.PkgId) at ./loading.jl:1030",
      " [4] require(::Base.PkgId) at ./loading.jl:928",
      " [5] require(::Module, ::Symbol) at ./loading.jl:923",
      " [6] top-level scope at In[3]:2",
      " [7] include_string(::Function, ::Module, ::String, ::String) at ./loading.jl:1091"
     ]
    }
   ],
   "source": [
    "begin\n",
    "\tusing CSV\n",
    "\tusing DataFrames\n",
    "\tusing TextAnalysis\n",
    "\tusing Languages\n",
    "\tusing MLDataUtils\n",
    "\tusing Plots\n",
    "\tusing Images\n",
    "\tusing WordCloud\n",
    "end"
   ]
  },
  {
   "cell_type": "code",
   "execution_count": 4,
   "metadata": {},
   "outputs": [
    {
     "name": "stderr",
     "output_type": "stream",
     "text": [
      "┌ Info: Precompiling CSV [336ed68f-0bac-5ca0-87d4-7b16caf5d00b]\n",
      "└ @ Base loading.jl:1278\n",
      "ERROR: LoadError: UndefVarError: invrefpool not defined\n",
      "Stacktrace:\n",
      " [1] getproperty(::Module, ::Symbol) at ./Base.jl:26\n",
      " [2] top-level scope at /Users/lambda/.julia/packages/PooledArrays/4I2sD/src/PooledArrays.jl:162\n",
      " [3] include(::Function, ::Module, ::String) at ./Base.jl:380\n",
      " [4] include(::Module, ::String) at ./Base.jl:368\n",
      " [5] top-level scope at none:2\n",
      " [6] eval at ./boot.jl:331 [inlined]\n",
      " [7] eval(::Expr) at ./client.jl:467\n",
      " [8] top-level scope at ./none:3\n",
      "in expression starting at /Users/lambda/.julia/packages/PooledArrays/4I2sD/src/PooledArrays.jl:162\n",
      "ERROR: LoadError: Failed to precompile PooledArrays [2dfb63ee-cc39-5dd5-95bd-886bf059d720] to /Users/lambda/.julia/compiled/v1.5/PooledArrays/vi11X_pTTLi.ji.\n",
      "Stacktrace:\n",
      " [1] error(::String) at ./error.jl:33\n",
      " [2] compilecache(::Base.PkgId, ::String) at ./loading.jl:1305\n",
      " [3] _require(::Base.PkgId) at ./loading.jl:1030\n",
      " [4] require(::Base.PkgId) at ./loading.jl:928\n",
      " [5] require(::Module, ::Symbol) at ./loading.jl:923\n",
      " [6] include(::Function, ::Module, ::String) at ./Base.jl:380\n",
      " [7] include(::Module, ::String) at ./Base.jl:368\n",
      " [8] top-level scope at none:2\n",
      " [9] eval at ./boot.jl:331 [inlined]\n",
      " [10] eval(::Expr) at ./client.jl:467\n",
      " [11] top-level scope at ./none:3\n",
      "in expression starting at /Users/lambda/.julia/packages/CSV/YUbbG/src/CSV.jl:15\n"
     ]
    },
    {
     "ename": "LoadError",
     "evalue": "Failed to precompile CSV [336ed68f-0bac-5ca0-87d4-7b16caf5d00b] to /Users/lambda/.julia/compiled/v1.5/CSV/HHBkp_pTTLi.ji.",
     "output_type": "error",
     "traceback": [
      "Failed to precompile CSV [336ed68f-0bac-5ca0-87d4-7b16caf5d00b] to /Users/lambda/.julia/compiled/v1.5/CSV/HHBkp_pTTLi.ji.",
      "",
      "Stacktrace:",
      " [1] error(::String) at ./error.jl:33",
      " [2] compilecache(::Base.PkgId, ::String) at ./loading.jl:1305",
      " [3] _require(::Base.PkgId) at ./loading.jl:1030",
      " [4] require(::Base.PkgId) at ./loading.jl:928",
      " [5] require(::Module, ::Symbol) at ./loading.jl:923",
      " [6] top-level scope at In[4]:2",
      " [7] include_string(::Function, ::Module, ::String, ::String) at ./loading.jl:1091"
     ]
    }
   ],
   "source": [
    "begin\n",
    "\tusing CSV\n",
    "\tusing DataFrames\n",
    "\tusing Distributions\n",
    "\tusing TextAnalysis\n",
    "\tusing Languages\n",
    "\tusing MLDataUtils\n",
    "\tusing Plots\n",
    "\tusing Images\n",
    "\tusing WordCloud\n",
    "end"
   ]
  },
  {
   "cell_type": "markdown",
   "metadata": {},
   "source": [
    "\n",
    "We all hate spam emails. How can Bayes help us with this? What we will be introducing in this chapter is a simple yet effective way of using Bayesian probability to make a spam filter of emails based on their content. \n",
    "\n",
    "There are many possible origins of the 'Spam' word. Some people suggest Spam is a satirized way to refer to 'fake meat'. Hence, in the context of emails, this would just mean 'fake emails'. It makes sense, but the real story is another one.\n",
    "The origin of this term can be tracked to the 1970s, where the British surreal comedy troupe Monty Python gave life to it in a sketch of their *Monty Python's Flying Circus* series. In the sketch, a customer wants to make an order in a restaurant, but all the restaurant's items have *spam* in them. As the waitress describes the food, she repeats thw word spam, and as this happens, a group of Vikings sitting on another table nearby start singing '*Spam, spam, spam, spam, spam, spam, spam, spam, lovely spam! Wonderful spam!* until they are told to shut up. \n"
   ]
  },
  {
   "cell_type": "code",
   "execution_count": 5,
   "metadata": {},
   "outputs": [
    {
     "ename": "LoadError",
     "evalue": "UndefVarError: load not defined",
     "output_type": "error",
     "traceback": [
      "UndefVarError: load not defined",
      "",
      "Stacktrace:",
      " [1] top-level scope at In[5]:1",
      " [2] include_string(::Function, ::Module, ::String, ::String) at ./loading.jl:1091"
     ]
    }
   ],
   "source": [
    "imresize(load(\"./imgs/spam.jpg\"), (300, 400))"
   ]
  },
  {
   "cell_type": "markdown",
   "metadata": {},
   "source": [
    "Although the exact moment where this was first translated to different types of internet messages such as emails or chat messages can't be stated clearly, it is a well known fact that users in each of these messaging instances chose the word 'spam' as a reference to Monty Python's sketch, where spam was itself something unwanted, popping all over the menu and annoyingly trying to drown out the conversation.\n"
   ]
  },
  {
   "cell_type": "code",
   "execution_count": 6,
   "metadata": {},
   "outputs": [
    {
     "ename": "LoadError",
     "evalue": "UndefVarError: load not defined",
     "output_type": "error",
     "traceback": [
      "UndefVarError: load not defined",
      "",
      "Stacktrace:",
      " [1] top-level scope at In[6]:1",
      " [2] include_string(::Function, ::Module, ::String, ::String) at ./loading.jl:1091"
     ]
    }
   ],
   "source": [
    "imresize(load(\"./imgs/I-don-t-like-spam.jpg\"), (300, 500))"
   ]
  },
  {
   "cell_type": "markdown",
   "metadata": {},
   "source": [
    "\n",
    "Now that we had made some historical overview of the topic, we can start designing our spam filter. One of the most important things for the filter to work properly will we to feed it with some good training data. What do we mean by this? In this context, we mean to have a large enough corpus of emails classified as spam or ham (that's the way no-spam emails are called!), that the emails are collected from an heterogeneous group of persons (spam and ham emails will be not be the same from a software developer, a social scientist or a graphics designer), and that the proportion of spam vs. ham in our data is somewhat representative of the real proportion of mails we recieve. \n",
    "Fortunately, there are a lot of very good datasets available online. We will be using one from [Kaggle](https://www.kaggle.com/balaka18/email-spam-classification-dataset-csv), a community of data science enthusiasts and practitioners who publish datasets, make competitions and share their knowledge.\n",
    "\n",
    "This dataset is already a bit pre-processed, as you will probably notice. It consists of 5172 emails, represented by the rows of a matrix or DataFrame. Each column represents a word from the 3000 most frequent words in all mails, and picking a row and a column will tell us how many times a given word appears in a particulara email. The last column indicates a 0 for ham emails and 1 for spam. Let's give it a look:\n"
   ]
  },
  {
   "cell_type": "code",
   "execution_count": 7,
   "metadata": {},
   "outputs": [
    {
     "ename": "LoadError",
     "evalue": "UndefVarError: CSV not defined",
     "output_type": "error",
     "traceback": [
      "UndefVarError: CSV not defined",
      "",
      "Stacktrace:",
      " [1] top-level scope at In[7]:1",
      " [2] include_string(::Function, ::Module, ::String, ::String) at ./loading.jl:1091"
     ]
    }
   ],
   "source": [
    "raw_df = CSV.File(\"./data/emails.csv\") |> DataFrame"
   ]
  },
  {
   "cell_type": "markdown",
   "metadata": {},
   "source": [
    "\n",
    "What we are facing here is a **classification** problem, and we will code from scratch and use a **supervised learning** algorithm to find a solution with the help of Bayes' theorem. In particular, we will be using *naive Bayes*. What we are going to do is to treat each email just as a collection of words. The particular relationship between words and the context will not be taken into account here. Our strategy will be to estimate a probability of an incoming email of being ham or spam and making a decision based on that. Our general approach can be summarized as:\n",
    "\n",
    "$P(spam|email) \\propto P(email|spam)P(spam)$\n",
    "$P(ham|email) \\propto P(email|ham)P(ham)$\n",
    "\n",
    "Where we use $\\propto$ sign instead of $=$ sign because the denominator from Bayes' theorem is missing, but we won't need to calculate it as it is the same for both probabilities and all we are going to care about is a comparation of these two probabilities. \n",
    "\n",
    "So what do $P(email|spam)$ and $P(email|ham)$ mean and how do we calculate them? To answer this question, we have to remember that we are interpreting each email just as a collection of words, with no importance on their order within the text. In this naive approach, the semantics are not taken into account. In this scope, the conditional probability $P(email|spam)$ just means the probability that a given email can be generated with the collection of words that appear in the spam category of our data. If this still sounds a bit confusing, let's make a quick example. Consider for a moment that our training spam set of emails consists just of these three emails:\n",
    "\n",
    "email 1: 'are you interested in buying my product?'\n",
    "\n",
    "email 2: 'congratulations! you've won $1000!'\n",
    "\n",
    "email 3: 'check out this product!'\n",
    "\n",
    "Also consider we have a new email and we want to ask ourselves what $P(email|spam)$. This new email looks like this:\n",
    "\n",
    "new email: 'apply and win all this products!'\n",
    "\n",
    "As we already said, $P(email|spam)$ stands for the plausibility of the new email being generated by the words we encountered in our training spam email set. We can see that words like 'win' –which in our training set appears in the form of 'won', but there is a standard technique in linguistics named **Lemmatisation**, which groups together inflected forms of a word, letting us consider 'win' and 'won' as the same word– and 'product' appear rather commonly in our training data. So we will expect $P(email|spam)$ to be relatively high in this fake and simple example, as it contains words that are repeated among our spam emails data.\n",
    "\n",
    "Let's make all this discussion a bit more explicitly mathematical. The simplest way to write this in a mathematical way is to take each word appearing in the email and calculate the probability of it appearing in spam emails and ham emails. Then, we do this for each word in the email and finally multiply them, \n",
    "\n",
    "$P(email|spam) = \\prod_{i=1}^{n}P(word_i|spam)$\n",
    "$P(email|ham) = \\prod_{i=1}^{n}P(word_i|ham)$\n",
    "\n",
    "The multiplication of each of the word probabilities here stands from the supposition that all the words in the email are statistically independent. We have to stress that this is not necessarily true, and most likely false. Words in a language are never independent from one another, but this simple assumption seems to be enough for the level of complexity our problem requires. \n",
    "\n",
    "Let's start building a solution for our problem and the details will be discussed later.\n"
   ]
  },
  {
   "cell_type": "code",
   "execution_count": 8,
   "metadata": {},
   "outputs": [
    {
     "ename": "LoadError",
     "evalue": "UndefVarError: raw_df not defined",
     "output_type": "error",
     "traceback": [
      "UndefVarError: raw_df not defined",
      "",
      "Stacktrace:",
      " [1] top-level scope at In[8]:3",
      " [2] include_string(::Function, ::Module, ::String, ::String) at ./loading.jl:1091"
     ]
    }
   ],
   "source": [
    "# preprocessing of the data\n",
    "begin\n",
    "    all_words = names(raw_df)[2:end-1];\n",
    "    all_words_text = StringDocument(string([string(word, \" \") for word in all_words]...))\n",
    "    prepare!(all_words_text, strip_articles)\n",
    "    prepare!(all_words_text, strip_pronouns)\n",
    "    vocabulary = filter(x -> x != \"\", split(TextAnalysis.text(all_words_text)))\n",
    "    clean_words_df = raw_df[vocabulary]\n",
    "    # the columns of this matrix will be each mail now\n",
    "    data_matrix = Matrix(clean_words_df)'\n",
    "end"
   ]
  },
  {
   "cell_type": "code",
   "execution_count": 9,
   "metadata": {},
   "outputs": [
    {
     "ename": "LoadError",
     "evalue": "UndefVarError: raw_df not defined",
     "output_type": "error",
     "traceback": [
      "UndefVarError: raw_df not defined",
      "",
      "Stacktrace:",
      " [1] top-level scope at In[9]:3",
      " [2] include_string(::Function, ::Module, ::String, ::String) at ./loading.jl:1091"
     ]
    }
   ],
   "source": [
    "# preprocessing of the data\n",
    "begin\n",
    "    all_words = names(raw_df)[2:end-1];\n",
    "    all_words_text = StringDocument(string([string(word, \" \") for word in all_words]...))\n",
    "    prepare!(all_words_text, strip_articles)\n",
    "    prepare!(all_words_text, strip_pronouns)\n",
    "    vocabulary = filter(x -> x != \"\", split(TextAnalysis.text(all_words_text)))\n",
    "    clean_words_df = raw_df[:,vocabulary]\n",
    "    # the columns of this matrix will be each mail now\n",
    "    data_matrix = Matrix(clean_words_df)'\n",
    "end"
   ]
  },
  {
   "cell_type": "markdown",
   "metadata": {},
   "source": [
    "\n",
    "First, we would like to filter some words that are very common in the english language, such as articles and pronouns, and that will most likely add noise rather than information to our classification algorithm. For this we will use two Julia packages that are specially designed for working with texts of any type. These are *Languages.jl* and *TextAnalysis.jl*. \n",
    "A good practice when dealing with models that learn from data like the one we are going to implement, is to divide our data in two: a training set and a testing set. We need to measure how good our model is performing, so we will train it with some data, and test it with some other data the model has never seen. This way we may be sure that the model is not tricking us. In Julia, the package *MLDataUtils* has some nice functionalities for data manipulations like this. We will use the functions *splitobs* to split our dataset in a train set and a test set and *shuffleobs* to randomize the order of our data in the split.\n",
    "It is important also to pass a *labels* array to our split function so that it knows how to properly split our dataset.\n"
   ]
  },
  {
   "cell_type": "code",
   "execution_count": 10,
   "metadata": {},
   "outputs": [
    {
     "ename": "LoadError",
     "evalue": "UndefVarError: raw_df not defined",
     "output_type": "error",
     "traceback": [
      "UndefVarError: raw_df not defined",
      "",
      "Stacktrace:",
      " [1] top-level scope at In[10]:3",
      " [2] include_string(::Function, ::Module, ::String, ::String) at ./loading.jl:1091"
     ]
    }
   ],
   "source": [
    "begin\n",
    "\t# splitting of the data in a train and test set\n",
    "\tlabels = raw_df.Prediction\n",
    "\t(x_train, y_train), (x_test, y_test) = splitobs(shuffleobs((data_matrix, labels)), at = 0.7)\n",
    "end;"
   ]
  },
  {
   "cell_type": "markdown",
   "metadata": {},
   "source": [
    "\n",
    "Now that we have our data clean and splitted for training and testing, let's return to the details of the calculations. The probability of a particular word, given that we have a spam email, can be calculated like so,\n",
    "\n",
    "$P(word_i|spam) = \\frac{N_{word_i|spam} + \\alpha}{N_{spam} + \\alpha N_{vocabulary}}$\n",
    "$P(word_i|ham) = \\frac{N_{word_i|ham} + \\alpha}{N_{ham} + \\alpha N_{vocabulary}}$\n",
    "\n",
    "With this formulas in mind, we now know exactly what we have to calculate from our data. We are going to need the numbers $N_{word_i|spam}$ and $N_{word_i|ham}$ for each word, that is, the number of times that a given word $w_i$ is used in the spam and ham categories, respectively. Then $N_{spam}$ and $N_{ham}$ are the total number of times that words are used in the spam and ham categories (considering all the repetitions of the same words too), and finally, $N_{vocabulary}$ is the total number of unique words in the dataset. $α$ is just a smoothing parameter, so that probability of words that, for example, are not in the spam categoriy don't give 0 probability.\n",
    "\n",
    "As all this information will be particular for our dataset, so a clever way to aggregate all this is tu use a Julia *struct*, and we can define the attributes of the struct that we will be using over and over for the prediction. Below we can see the implementation. The relevant attributes of the struct will be *words_count_ham* and *words_count_spam*, two dictionaries containing the frequency of appearance of each word in the ham and spam datasets, *N_ham* and *N_spam* the total number of words appearing in each category, and finally *vocabulary*, an array with all the unique words in our dataset.\n",
    "The line *BayesSpamFilter() = new()* is just the constructor of this struct. When we instantiate the filter, all the attributes will be undefined and we will have to define some functions to fill this variables with values relevant to our particular problem.  \n"
   ]
  },
  {
   "cell_type": "code",
   "execution_count": 11,
   "metadata": {},
   "outputs": [],
   "source": [
    "mutable struct BayesSpamFilter\n",
    "    words_count_ham::Dict{String, Int64}\n",
    "    words_count_spam::Dict{String, Int64}\n",
    "    N_ham::Int64\n",
    "    N_spam::Int64\n",
    "    vocabulary::Array{String}\n",
    "    BayesSpamFilter() = new()\n",
    "end"
   ]
  },
  {
   "cell_type": "markdown",
   "metadata": {},
   "source": [
    "\n",
    "Now we are going to proceed to define some functions that will be important for our filter implementation. The function *word_data* below will help for counting the occurrencies of each word in ham and spam categories.\n"
   ]
  },
  {
   "cell_type": "code",
   "execution_count": 12,
   "metadata": {},
   "outputs": [
    {
     "data": {
      "text/plain": [
       "words_count (generic function with 2 methods)"
      ]
     },
     "execution_count": 12,
     "metadata": {},
     "output_type": "execute_result"
    }
   ],
   "source": [
    "function words_count(word_data, vocabulary, labels, spam=0)\n",
    "    # word_data is a matrix where each column is an email and each row is a word\n",
    "    count_dict = Dict{String, Int64}()\n",
    "    n_emails = size(word_data)[2]\n",
    "    for (i, word) in enumerate(vocabulary)\n",
    "        count_dict[word] = sum([word_data[i,j] for j in 1:n_emails if labels[j]==spam])\n",
    "    end\n",
    "    return count_dict\n",
    "end"
   ]
  },
  {
   "cell_type": "markdown",
   "metadata": {},
   "source": [
    "\n",
    "Next, we will define the *fit!* function for our spam filter struct. We are using the *bang*(!) convention for the functions that modify in-place their arguments, in this case, the spam filter struc itself. This will be the function that will fit our model to the data, a typical procedure in Data Science and Machine Learning areas. This fit function will use mainly the *words_count* function defined before to fill all the undefined parameters in the filter's struct.\n"
   ]
  },
  {
   "cell_type": "code",
   "execution_count": 13,
   "metadata": {},
   "outputs": [
    {
     "data": {
      "text/plain": [
       "fit! (generic function with 1 method)"
      ]
     },
     "execution_count": 13,
     "metadata": {},
     "output_type": "execute_result"
    }
   ],
   "source": [
    "function fit!(model::BayesSpamFilter, x_train, y_train, voc)\n",
    "    model.vocabulary = voc\n",
    "    model.words_count_ham = words_count(x_train, model.vocabulary, y_train, 0)\n",
    "    model.words_count_spam = words_count(x_train, model.vocabulary, y_train, 1)\n",
    "    model.N_ham = sum(values(model.words_count_ham))\n",
    "    model.N_spam = sum(values(model.words_count_spam))\n",
    "    return\n",
    "end"
   ]
  },
  {
   "cell_type": "markdown",
   "metadata": {},
   "source": [
    "\n",
    "Now it is time to instantiate our spam filter and fit the model to the data. We do this with our training data so then we can measure how well it is working in our test data.\n"
   ]
  },
  {
   "cell_type": "code",
   "execution_count": 14,
   "metadata": {},
   "outputs": [
    {
     "ename": "LoadError",
     "evalue": "UndefVarError: x_train not defined",
     "output_type": "error",
     "traceback": [
      "UndefVarError: x_train not defined",
      "",
      "Stacktrace:",
      " [1] top-level scope at In[14]:4",
      " [2] include_string(::Function, ::Module, ::String, ::String) at ./loading.jl:1091"
     ]
    }
   ],
   "source": [
    "begin\n",
    "\t# here we instantiate the Bayes filter and then we fit it to our data\n",
    "\tspam_filter = BayesSpamFilter()\n",
    "\tfit!(spam_filter, x_train, y_train, vocabulary)\n",
    "end"
   ]
  },
  {
   "cell_type": "markdown",
   "metadata": {},
   "source": [
    "\n",
    "We are now almost ready to make some predictions and test our model. The function below is just the implementation of the formula TAL that we have already talked about. It will be used internally by the next function defined, *spam_predict*, which will recieve a new email –the one we would want to classify as spam or ham–, our fitted model, and two parameters, α which we have already discussed in the formula for $P(word_i|spam)$ and $P(word_i|ham)$, and *tol*. We saw that the calculation for $P(email|spam)$ and $P(email|ham)$ required the multiplication of each $P(word_i|spam)$ and $P(word_i|ham)$ term. When mails are too large, i.e., they have a lot of words, this multiplication may lead to very small probabilities, up to the point that the computer interprets those probabilities as zero. This can't happen, as we need values of $P(email|spam)$ and $P(email|ham)$ that are largar than zero so we can multiply them by $P(spam)$ and $P(ham)$ respectively and compare these values to make a prediction. The parameter *tol* is the maximum tolerance for the number of unique words in an email. If this number is greater than the parameter *tol*, only the most frequent words will be considered and the rest will be neglected. How many of these most frequent words? the first '*tol*' most frequent words!\n"
   ]
  },
  {
   "cell_type": "code",
   "execution_count": 15,
   "metadata": {},
   "outputs": [
    {
     "data": {
      "text/plain": [
       "word_spam_probability (generic function with 1 method)"
      ]
     },
     "execution_count": 15,
     "metadata": {},
     "output_type": "execute_result"
    }
   ],
   "source": [
    "function word_spam_probability(word, words_count_ham, words_count_spam, N_ham,\n",
    "\t\tN_spam, n_vocabulary, α)\n",
    "    ham_prob = (words_count_ham[word] + α)/(N_ham + α*(n_vocabulary))\n",
    "    spam_prob = (words_count_spam[word] + α)/(N_spam + α*(n_vocabulary))\n",
    "    return ham_prob, spam_prob\n",
    "end"
   ]
  },
  {
   "cell_type": "code",
   "execution_count": 16,
   "metadata": {},
   "outputs": [
    {
     "data": {
      "text/plain": [
       "spam_predict (generic function with 2 methods)"
      ]
     },
     "execution_count": 16,
     "metadata": {},
     "output_type": "execute_result"
    }
   ],
   "source": [
    "function spam_predict(email, model::BayesSpamFilter, α, tol=100)\n",
    "    ngrams_email = ngrams(StringDocument(email))\n",
    "    email_words = keys(ngrams_email)\n",
    "    n_vocabulary = length(model.vocabulary)\n",
    "    ham_prior = model.N_ham/(model.N_ham + model.N_spam)\n",
    "    spam_prior = model.N_spam/(model.N_ham + model.N_spam)\n",
    "    if length(email_words) > tol\n",
    "        word_freq = values(ngrams_email)\n",
    "        sort_idx = sortperm(collect(word_freq), rev=true)\n",
    "        email_words = collect(email_words)[sort_idx][1:tol]\n",
    "    end\n",
    "    \n",
    "    email_ham_probability = BigFloat(1)\n",
    "    email_spam_probability = BigFloat(1)\n",
    "    \n",
    "    for word in [wrd for wrd in email_words if wrd in vocabulary]\n",
    "        word_ham_prob, word_spam_prob = word_spam_probability(word, model.words_count_ham, model.words_count_spam, model.N_ham, model.N_spam, n_vocabulary, α)\n",
    "        email_ham_probability *= word_ham_prob\n",
    "        email_spam_probability *= word_spam_prob\n",
    "    end\n",
    "    return ham_prior*email_ham_probability, spam_prior*email_spam_probability\n",
    "end"
   ]
  },
  {
   "cell_type": "code",
   "execution_count": 17,
   "metadata": {},
   "outputs": [
    {
     "ename": "LoadError",
     "evalue": "UndefVarError: x_test not defined",
     "output_type": "error",
     "traceback": [
      "UndefVarError: x_test not defined",
      "",
      "Stacktrace:",
      " [1] top-level scope at In[17]:4",
      " [2] include_string(::Function, ::Module, ::String, ::String) at ./loading.jl:1091"
     ]
    }
   ],
   "source": [
    "begin\n",
    "\t# this cell is just for testing\n",
    "\tmail_num = 56\n",
    "\temail = string([repeat(string(word, \" \"), n) for (word, n) in zip(vocabulary, x_test[:,mail_num])]...);\n",
    "\t#nospam_prob, spam_prob = spam_predict(email, train_nospam, train_spam, N_nospam, N_spam, vocabulary, 1)\n",
    "\tham_prob, spam_prob = spam_predict(email, spam_filter, 1)\n",
    "\t@show ham_prob\n",
    "\t@show spam_prob\n",
    "\ty_test[mail_num]\n",
    "end"
   ]
  },
  {
   "cell_type": "code",
   "execution_count": 18,
   "metadata": {},
   "outputs": [
    {
     "data": {
      "text/plain": [
       "spam_filter_accurracy (generic function with 2 methods)"
      ]
     },
     "execution_count": 18,
     "metadata": {},
     "output_type": "execute_result"
    }
   ],
   "source": [
    "function spam_filter_accurracy(x_test, y_test, model::BayesSpamFilter, α, tol=200)\n",
    "    N = length(y_test)\n",
    "    predictions = Array{Int64,1}(undef, N)\n",
    "    correct = 0\n",
    "    for i in 1:N\n",
    "        email = string([repeat(string(word, \" \"), n) for (word, n) in zip(model.vocabulary, x_test[:,i])]...)\n",
    "        p_ham, p_spam = spam_predict(email, model, α, tol)\n",
    "        if p_ham > p_spam\n",
    "            predictions[i] = 0\n",
    "            if y_test[i] == 0\n",
    "                correct += 1\n",
    "            end\n",
    "        else\n",
    "            predictions[i] = 1\n",
    "            if y_test[i] == 1\n",
    "                correct += 1\n",
    "            end\n",
    "        end\n",
    "    end\n",
    "    return correct/N\n",
    "end"
   ]
  },
  {
   "cell_type": "markdown",
   "metadata": {},
   "source": [
    "\n",
    "As you can see below, the model (at least under this simple metric) is performing very well! An accurray of almost 0.95 is quite astonishing for a model so *naive* and simple, but it works!\n"
   ]
  },
  {
   "cell_type": "code",
   "execution_count": 19,
   "metadata": {},
   "outputs": [
    {
     "ename": "LoadError",
     "evalue": "UndefVarError: x_test not defined",
     "output_type": "error",
     "traceback": [
      "UndefVarError: x_test not defined",
      "",
      "Stacktrace:",
      " [1] top-level scope at In[19]:1",
      " [2] include_string(::Function, ::Module, ::String, ::String) at ./loading.jl:1091"
     ]
    }
   ],
   "source": [
    "spam_filter_accurracy(x_test, y_test, spam_filter, 1)"
   ]
  },
  {
   "cell_type": "code",
   "execution_count": 20,
   "metadata": {},
   "outputs": [
    {
     "data": {
      "text/plain": [
       "create_spam_and_ham_corpus (generic function with 1 method)"
      ]
     },
     "execution_count": 20,
     "metadata": {},
     "output_type": "execute_result"
    }
   ],
   "source": [
    "# to create the emails corpus based on the frequencies of each word\n",
    "\n",
    "function create_spam_and_ham_corpus(model::BayesSpamFilter, df)\n",
    "\t\n",
    "\tn_spam_mails = sum(df.Prediction)\n",
    "\tn_ham_mails = size(df)[1] - n_spam_mails\n",
    "\t\n",
    "\tham_corpus = Array{String}(undef, n_ham_mails)\n",
    "\tspam_corpus = Array{String}(undef, n_spam_mails)\n",
    "\t\n",
    "\tfor i in 1:n_spam_mails\n",
    "\t\tspam_corpus[i] = string([repeat(string(word, \" \"), \t\t\t\t\t\t\t\t\t\t\t\tmodel.words_count_spam[word]) for word in vocabulary])\n",
    "\tend\n",
    "\t\n",
    "\tfor i in 1:n_ham_mails\n",
    "\t\tham_corpus[i] = string([repeat(string(word, \" \"), \n",
    "\t\t\t\t\tmodel.words_count_ham[word]) for word in vocabulary])\n",
    "\tend\n",
    "\treturn ham_corpus, spam_corpus\n",
    "end\t"
   ]
  },
  {
   "cell_type": "markdown",
   "metadata": {},
   "source": [
    "#### To do:\n",
    "* WordClouds\n",
    "* Confusion matrix"
   ]
  },
  {
   "cell_type": "code",
   "execution_count": null,
   "metadata": {},
   "outputs": [],
   "source": []
  }
 ],
 "metadata": {
  "kernelspec": {
   "display_name": "Julia 1.5.3",
   "language": "julia",
   "name": "julia-1.5"
  },
  "language_info": {
   "file_extension": ".jl",
   "mimetype": "application/julia",
   "name": "julia",
   "version": "1.5.3"
  }
 },
 "nbformat": 4,
 "nbformat_minor": 4
}
